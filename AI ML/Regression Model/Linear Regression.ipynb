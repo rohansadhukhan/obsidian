{
 "cells": [
  {
   "cell_type": "markdown",
   "id": "37ff8aba",
   "metadata": {},
   "source": [
    "## Regression Model\n",
    "\n",
    "### Linear Regression\n",
    "\n",
    "\n",
    "1, 3, 5, 7, 9, what is the next number ?\n",
    "\n",
    "We are going to predict price of a house based on the size of a house\n",
    "\n",
    "So if the target value is some continuous (many possible) value then we can say regression problem\n",
    "\n",
    "\n",
    "### How to solve these kind of problems ?\n",
    "\n",
    "    1. Find a pattern, we are trying to understand is there any pattern so that our ML model is going to identify the pattern and coming up with function.\n",
    "    \n",
    "    \n",
    "#### What are the practical challenges ?\n",
    "    1. Noice in data (like for a height data, some are in cm or feet or m etc)\n",
    "    1. Missing data\n",
    "    \n",
    "    \n",
    "(Data) => (Algorithm) => function\n",
    "\n",
    "\n",
    "(Read Data) => (Process Data) => (Split Data) => (Train Model) => (Evaluate Model) => (Accuracy)\n",
    "    \n",
    "#### How to calculate accuracy ?\n",
    "\n",
    "1. Root Mean Square Error \n",
    "\n",
    "   RMSE = ($\\sum$ error<sup>2</sup> / total_samples)<sup>1/2</sup> \n",
    "   \n",
    "   RMSE = ($\\sum$ (y<sub>actual</sub> - y<sub>predited</sub>)<sup>2</sup> / total_samples)<sup>1/2</sup>\n",
    "    \n",
    "    \n",
    "2. Mean Absolute Error\n",
    "\n",
    "   MAE = ($\\sum$ |error| / total_samples)\n",
    "   \n",
    "   MAE = ($\\sum$ |y<sub>actual</sub> - y<sub>predited</sub>| / total_samples)\n",
    "   \n",
    "  "
   ]
  },
  {
   "cell_type": "code",
   "execution_count": null,
   "id": "3353bce1",
   "metadata": {},
   "outputs": [],
   "source": []
  },
  {
   "cell_type": "code",
   "execution_count": 8,
   "id": "8c343ddf",
   "metadata": {},
   "outputs": [
    {
     "name": "stdout",
     "output_type": "stream",
     "text": [
      "m = [2.]\n",
      "c = 1.0\n",
      "1.0\n",
      "[19. 49. 41.]\n"
     ]
    }
   ],
   "source": [
    "from sklearn.linear_model import LinearRegression\n",
    "\n",
    "x_train = [[0], [1], [2], [3], [4], [5]]\n",
    "y_train = [1, 3, 5, 7, 9, 11]\n",
    "\n",
    "x_test = [[9], [24], [20]]\n",
    "\n",
    "model = LinearRegression()\n",
    "model.fit(x_train, y_train)\n",
    "\n",
    "\n",
    "print(f'm = {model.coef_}')\n",
    "print(f'c = {model.intercept_}')\n",
    "\n",
    "print(model.score(x_train, y_train)) # RMSE\n",
    "\n",
    "\n",
    "y_pred = model.predict(x_test)\n",
    "\n",
    "print(y_pred)"
   ]
  },
  {
   "cell_type": "code",
   "execution_count": null,
   "id": "b8f78bff",
   "metadata": {},
   "outputs": [],
   "source": []
  }
 ],
 "metadata": {
  "kernelspec": {
   "display_name": "Python 3 (ipykernel)",
   "language": "python",
   "name": "python3"
  },
  "language_info": {
   "codemirror_mode": {
    "name": "ipython",
    "version": 3
   },
   "file_extension": ".py",
   "mimetype": "text/x-python",
   "name": "python",
   "nbconvert_exporter": "python",
   "pygments_lexer": "ipython3",
   "version": "3.10.13"
  }
 },
 "nbformat": 4,
 "nbformat_minor": 5
}
