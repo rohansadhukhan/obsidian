{
 "cells": [
  {
   "cell_type": "markdown",
   "id": "888d79fc",
   "metadata": {},
   "source": [
    "# Understanding K Nearest Neighbors\n",
    "\n",
    "##### References\n",
    "\n",
    "    1. https://scikit-learn.org/stable/modules/neighbors.html\n",
    "    1. https://www.youtube.com/watch?v=O1nWXTXcCwI\n",
    "    \n",
    "\n",
    "---\n",
    "\n",
    "**Classify an unknown sample by looking at its neighbors**\n",
    "\n",
    "\n",
    "\n",
    "In general we take the value of k is odd number\n",
    "\n",
    "Lazy learing\n",
    "\n",
    "If we have small sample KNN is good, but for large sample, memorizing the train data and calculating the distance is a big work\n",
    "\n"
   ]
  },
  {
   "cell_type": "markdown",
   "id": "cb1a3f94",
   "metadata": {},
   "source": [
    "Nearest Neighbors can be of **Supervised** and **Unsupervised**\n",
    "\n",
    "Supervised KNN is of two types\n",
    "1. classification for data with discrete labels, and \n",
    "2. regression for data with continuous labels."
   ]
  },
  {
   "cell_type": "markdown",
   "id": "54128bb4",
   "metadata": {},
   "source": [
    "## Problem Statement\n",
    "\n",
    "You are given apples and oranges in a 2-D plane and some samples are unknown. Your objective is to assign lebels to unknown samples. "
   ]
  },
  {
   "cell_type": "code",
   "execution_count": 21,
   "id": "4427540d",
   "metadata": {},
   "outputs": [],
   "source": [
    "import pandas as pd\n",
    "import matplotlib.pyplot as plt\n",
    "from sklearn.model_selection import train_test_split"
   ]
  },
  {
   "cell_type": "code",
   "execution_count": 23,
   "id": "f63e57df",
   "metadata": {},
   "outputs": [
    {
     "data": {
      "text/plain": [
       "(40, 3)"
      ]
     },
     "execution_count": 23,
     "metadata": {},
     "output_type": "execute_result"
    }
   ],
   "source": [
    "filename = \"apples_and_oranges.csv\"\n",
    "df = pd.read_csv(filename)\n",
    "df.shape"
   ]
  },
  {
   "cell_type": "code",
   "execution_count": 20,
   "id": "be6f8b9c",
   "metadata": {},
   "outputs": [
    {
     "data": {
      "text/plain": [
       "Text(0, 0.5, 'size')"
      ]
     },
     "execution_count": 20,
     "metadata": {},
     "output_type": "execute_result"
    },
    {
     "data": {
      "image/png": "[encoded data removed]",
      "text/plain": [
       "<Figure size 640x480 with 1 Axes>"
      ]
     },
     "metadata": {},
     "output_type": "display_data"
    }
   ],
   "source": [
    "# Separate the data based on classes\n",
    "apple_data = df[df['Class'] == 'apple']\n",
    "orange_data = df[df['Class'] == 'orange']\n",
    "\n",
    "# Plotting the scatter plot\n",
    "plt.scatter(apple_data['Weight'], apple_data['Size'], c='red', label='Apple')\n",
    "plt.scatter(orange_data['Weight'], orange_data['Size'], c='orange', label='Orange')\n",
    "plt.xlabel('weights')\n",
    "plt.ylabel('size')\n"
   ]
  },
  {
   "cell_type": "code",
   "execution_count": null,
   "id": "80c65798",
   "metadata": {},
   "outputs": [],
   "source": []
  },
  {
   "cell_type": "code",
   "execution_count": null,
   "id": "c6948d7c",
   "metadata": {},
   "outputs": [],
   "source": []
  }
 ],
 "metadata": {
  "kernelspec": {
   "display_name": "Python 3 (ipykernel)",
   "language": "python",
   "name": "python3"
  },
  "language_info": {
   "codemirror_mode": {
    "name": "ipython",
    "version": 3
   },
   "file_extension": ".py",
   "mimetype": "text/x-python",
   "name": "python",
   "nbconvert_exporter": "python",
   "pygments_lexer": "ipython3",
   "version": "3.10.13"
  }
 },
 "nbformat": 4,
 "nbformat_minor": 5
}
