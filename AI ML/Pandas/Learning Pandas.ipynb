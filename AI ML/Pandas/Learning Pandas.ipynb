{
 "cells": [
  {
   "cell_type": "markdown",
   "id": "48c5d785",
   "metadata": {},
   "source": [
    "# Learning Pandas\n",
    "\n",
    "1. https://pandas.pydata.org/docs/reference/index.html"
   ]
  },
  {
   "cell_type": "code",
   "execution_count": 1,
   "id": "05f92639",
   "metadata": {},
   "outputs": [],
   "source": [
    "import pandas as pd"
   ]
  },
  {
   "cell_type": "code",
   "execution_count": 3,
   "id": "c7283c76",
   "metadata": {},
   "outputs": [],
   "source": [
    "# reading a csv file\n",
    "df = pd.read_csv(\"apples_and_oranges.csv\")"
   ]
  },
  {
   "cell_type": "code",
   "execution_count": 4,
   "id": "dd09261a",
   "metadata": {},
   "outputs": [
    {
     "data": {
      "text/plain": [
       "(40, 3)"
      ]
     },
     "execution_count": 4,
     "metadata": {},
     "output_type": "execute_result"
    }
   ],
   "source": [
    "# prints number of rows and columns \n",
    "df.shape"
   ]
  },
  {
   "cell_type": "code",
   "execution_count": 5,
   "id": "e114e538",
   "metadata": {},
   "outputs": [
    {
     "data": {
      "text/plain": [
       "<bound method NDFrame.describe of     Weight  Size   Class\n",
       "0       69  4.39  orange\n",
       "1       69  4.21  orange\n",
       "2       65  4.09  orange\n",
       "3       72  5.85   apple\n",
       "4       67  4.70  orange\n",
       "5       73  5.68   apple\n",
       "6       70  5.56   apple\n",
       "7       75  5.11   apple\n",
       "8       74  5.36   apple\n",
       "9       65  4.27  orange\n",
       "10      73  5.79   apple\n",
       "11      70  5.47   apple\n",
       "12      74  5.53   apple\n",
       "13      68  4.47  orange\n",
       "14      74  5.22   apple\n",
       "15      65  4.48  orange\n",
       "16      69  4.66  orange\n",
       "17      75  5.25   apple\n",
       "18      67  4.18  orange\n",
       "19      74  5.50   apple\n",
       "20      66  4.13  orange\n",
       "21      70  4.83  orange\n",
       "22      69  4.61  orange\n",
       "23      68  4.08  orange\n",
       "24      67  4.25  orange\n",
       "25      71  5.35   apple\n",
       "26      67  4.01  orange\n",
       "27      70  4.22  orange\n",
       "28      74  5.25   apple\n",
       "29      71  5.26   apple\n",
       "30      73  5.78   apple\n",
       "31      66  4.68  orange\n",
       "32      72  5.72   apple\n",
       "33      73  5.17   apple\n",
       "34      68  4.83  orange\n",
       "35      69  4.11  orange\n",
       "36      69  4.76  orange\n",
       "37      74  5.48   apple\n",
       "38      70  5.59   apple\n",
       "39      73  5.03   apple>"
      ]
     },
     "execution_count": 5,
     "metadata": {},
     "output_type": "execute_result"
    }
   ],
   "source": [
    "df.describe\n"
   ]
  },
  {
   "cell_type": "code",
   "execution_count": null,
   "id": "8d52a34d",
   "metadata": {},
   "outputs": [],
   "source": []
  }
 ],
 "metadata": {
  "kernelspec": {
   "display_name": "Python 3 (ipykernel)",
   "language": "python",
   "name": "python3"
  },
  "language_info": {
   "codemirror_mode": {
    "name": "ipython",
    "version": 3
   },
   "file_extension": ".py",
   "mimetype": "text/x-python",
   "name": "python",
   "nbconvert_exporter": "python",
   "pygments_lexer": "ipython3",
   "version": "3.10.13"
  }
 },
 "nbformat": 4,
 "nbformat_minor": 5
}
